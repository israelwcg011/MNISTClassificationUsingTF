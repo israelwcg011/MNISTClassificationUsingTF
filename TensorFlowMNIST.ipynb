{
  "nbformat": 4,
  "nbformat_minor": 0,
  "metadata": {
    "colab": {
      "name": "TensorFlowMNIST.ipynb",
      "provenance": [],
      "collapsed_sections": []
    },
    "kernelspec": {
      "name": "python3",
      "display_name": "Python 3"
    }
  },
  "cells": [
    {
      "cell_type": "code",
      "metadata": {
        "id": "q9R_NT7VPe3o",
        "colab_type": "code",
        "colab": {}
      },
      "source": [
        "# Deep neural network for MNIST classification"
      ],
      "execution_count": 0,
      "outputs": []
    },
    {
      "cell_type": "code",
      "metadata": {
        "id": "-crQF-50ZGol",
        "colab_type": "code",
        "outputId": "324921b7-c3e0-49ac-f622-acbcad1adee5",
        "colab": {
          "base_uri": "https://localhost:8080/",
          "height": 34
        }
      },
      "source": [
        "%tensorflow_version 2.x"
      ],
      "execution_count": 2,
      "outputs": [
        {
          "output_type": "stream",
          "text": [
            "TensorFlow 2.x selected.\n"
          ],
          "name": "stdout"
        }
      ]
    },
    {
      "cell_type": "code",
      "metadata": {
        "id": "Yid2dBnBQw_c",
        "colab_type": "code",
        "colab": {}
      },
      "source": [
        "# Import the relevant packages\n",
        "\n",
        "import numpy as np\n",
        "import tensorflow as tf\n",
        "import tensorflow_datasets as tfds"
      ],
      "execution_count": 0,
      "outputs": []
    },
    {
      "cell_type": "code",
      "metadata": {
        "id": "3-JZM-KjQ-2u",
        "colab_type": "code",
        "colab": {}
      },
      "source": [
        "# data\n",
        "\n",
        "mnist_dataset, mnist_info = tfds.load(name = 'mnist', with_info = True, as_supervised = True)\n",
        "mnist_train, mnist_test = mnist_dataset['train'], mnist_dataset['test']\n",
        "num_validation_samples = 0.1 * mnist_info.splits['train'].num_examples\n",
        "num_validation_samples = tf.cast(num_validation_samples, tf.int64)\n",
        "num_test_samples = mnist_info.splits['test'].num_examples\n",
        "num_test_samples = tf.cast(num_test_samples, tf.int64)\n",
        "\n",
        "def scale(image, label):\n",
        "  image = tf.cast(image, tf.float32)\n",
        "  image /= 255.\n",
        "  return image, label\n",
        "\n",
        "scaled_train_and_validation_data = mnist_train.map(scale)\n",
        "test_data = mnist_test.map(scale)\n",
        "\n",
        "BUFFER_SIZE = 10000\n",
        "shuffled_train_and_validation_data = scaled_train_and_validation_data.shuffle(BUFFER_SIZE)\n",
        "validation_data = shuffled_train_and_validation_data.take(num_validation_samples)\n",
        "train_data = shuffled_train_and_validation_data.skip(num_validation_samples)\n",
        "\n",
        "BATCH_SIZE = 100\n",
        "\n",
        "train_data = train_data.batch(BATCH_SIZE)\n",
        "validation_data = validation_data.batch(num_validation_samples)\n",
        "test_data = test_data.batch(num_test_samples)\n",
        "\n",
        "validation_inputs, validation_targets = next(iter(validation_data))"
      ],
      "execution_count": 0,
      "outputs": []
    },
    {
      "cell_type": "code",
      "metadata": {
        "id": "XOF5nM7bSGGK",
        "colab_type": "code",
        "colab": {}
      },
      "source": [
        "#Model\n",
        "\n",
        "#Outline the model"
      ],
      "execution_count": 0,
      "outputs": []
    },
    {
      "cell_type": "code",
      "metadata": {
        "id": "QKWesv4hZ2yJ",
        "colab_type": "code",
        "colab": {}
      },
      "source": [
        "input_size = 784\n",
        "output_size = 10\n",
        "hidden_layer_size = 200\n",
        "\n",
        "tf.keras.optimizers.Adam(learning_rate=0.0001)\n",
        "\n",
        "model = tf.keras.Sequential([\n",
        "                             tf.keras.layers.Flatten(input_shape = (28,28,1)),\n",
        "                             tf.keras.layers.Dense(hidden_layer_size, activation='relu'),\n",
        "                             tf.keras.layers.Dense(hidden_layer_size, activation='relu'),\n",
        "                             tf.keras.layers.Dense(hidden_layer_size, activation='relu'),\n",
        "                             tf.keras.layers.Dense(output_size, activation='softmax')\n",
        "                             ])"
      ],
      "execution_count": 0,
      "outputs": []
    },
    {
      "cell_type": "code",
      "metadata": {
        "id": "KgGlwf-0bpGz",
        "colab_type": "code",
        "colab": {}
      },
      "source": [
        "#Choose the optimizer and the loss function\n",
        "\n",
        "model.compile(optimizer='adam', loss='sparse_categorical_crossentropy', metrics=['accuracy'])"
      ],
      "execution_count": 0,
      "outputs": []
    },
    {
      "cell_type": "code",
      "metadata": {
        "id": "kRieANdzcPdn",
        "colab_type": "code",
        "colab": {
          "base_uri": "https://localhost:8080/",
          "height": 374
        },
        "outputId": "ba80bb7d-b1ff-4d56-b0b7-d525df3a8e13"
      },
      "source": [
        "#Training\n",
        "\n",
        "NUM_EPOCHS = 10\n",
        "\n",
        "model.fit(train_data, epochs=NUM_EPOCHS, validation_data=(validation_inputs, validation_targets), validation_steps=1, verbose=2)"
      ],
      "execution_count": 55,
      "outputs": [
        {
          "output_type": "stream",
          "text": [
            "Epoch 1/10\n",
            "540/540 - 18s - loss: 0.0340 - accuracy: 0.9889 - val_loss: 0.0445 - val_accuracy: 0.9873\n",
            "Epoch 2/10\n",
            "540/540 - 18s - loss: 0.0290 - accuracy: 0.9908 - val_loss: 0.0486 - val_accuracy: 0.9855\n",
            "Epoch 3/10\n",
            "540/540 - 18s - loss: 0.0259 - accuracy: 0.9913 - val_loss: 0.0279 - val_accuracy: 0.9912\n",
            "Epoch 4/10\n",
            "540/540 - 18s - loss: 0.0224 - accuracy: 0.9928 - val_loss: 0.0451 - val_accuracy: 0.9858\n",
            "Epoch 5/10\n",
            "540/540 - 18s - loss: 0.0203 - accuracy: 0.9932 - val_loss: 0.0254 - val_accuracy: 0.9927\n",
            "Epoch 6/10\n",
            "540/540 - 18s - loss: 0.0180 - accuracy: 0.9941 - val_loss: 0.0286 - val_accuracy: 0.9907\n",
            "Epoch 7/10\n",
            "540/540 - 18s - loss: 0.0179 - accuracy: 0.9943 - val_loss: 0.0266 - val_accuracy: 0.9923\n",
            "Epoch 8/10\n",
            "540/540 - 19s - loss: 0.0153 - accuracy: 0.9947 - val_loss: 0.0390 - val_accuracy: 0.9895\n",
            "Epoch 9/10\n",
            "540/540 - 18s - loss: 0.0157 - accuracy: 0.9948 - val_loss: 0.0183 - val_accuracy: 0.9945\n",
            "Epoch 10/10\n",
            "540/540 - 18s - loss: 0.0137 - accuracy: 0.9956 - val_loss: 0.0154 - val_accuracy: 0.9947\n"
          ],
          "name": "stdout"
        },
        {
          "output_type": "execute_result",
          "data": {
            "text/plain": [
              "<tensorflow.python.keras.callbacks.History at 0x7f221e5d85f8>"
            ]
          },
          "metadata": {
            "tags": []
          },
          "execution_count": 55
        }
      ]
    },
    {
      "cell_type": "code",
      "metadata": {
        "id": "IKjlWE0Wc-QT",
        "colab_type": "code",
        "colab": {
          "base_uri": "https://localhost:8080/",
          "height": 34
        },
        "outputId": "47c4d63e-7dde-4887-e86f-01e4d4504689"
      },
      "source": [
        "#Test the model\n",
        "\n",
        "test_loss, test_accuracy = model.evaluate(test_data)"
      ],
      "execution_count": 56,
      "outputs": [
        {
          "output_type": "stream",
          "text": [
            "      1/Unknown - 2s 2s/step - loss: 0.0797 - accuracy: 0.9824"
          ],
          "name": "stdout"
        }
      ]
    },
    {
      "cell_type": "code",
      "metadata": {
        "id": "mPLAoy_Cmi0-",
        "colab_type": "code",
        "colab": {
          "base_uri": "https://localhost:8080/",
          "height": 34
        },
        "outputId": "ab653505-87ca-4ce4-c47e-b2b1862fd05c"
      },
      "source": [
        "print('Test loss: {0: .2f}. Test accuracy: {1: .2f}%'.format(test_loss, test_accuracy*100.))"
      ],
      "execution_count": 57,
      "outputs": [
        {
          "output_type": "stream",
          "text": [
            "Test loss:  0.08. Test accuracy:  98.24%\n"
          ],
          "name": "stdout"
        }
      ]
    }
  ]
}